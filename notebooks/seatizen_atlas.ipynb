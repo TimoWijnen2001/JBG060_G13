{
 "cells": [
  {
   "cell_type": "markdown",
   "id": "a29a71bd",
   "metadata": {},
   "source": [
    "The data is already split into train, test, validation sets. They have 8716, 2886, and 2890 images, respectively. \n",
    "Each entry has two components:\n",
    "- The image\n",
    "- The label, saved as a multi-hot encoded list, with 31 elements.\n",
    "\n",
    "Here is a dictionary of the label encoding: <br>\n",
    "__Index: name__<br>\n",
    "0:  Acropora Branching <br>\n",
    "1:  Acropora Digitate<br>\n",
    "2:  Acropora Submassive<br>\n",
    "3:  Acropora Tabular<br>\n",
    "4:  Algal Assemblage<br>\n",
    "5:  Algae Halimeda<br>\n",
    "6:  Algae Coralline<br>\n",
    "7:  Algae Turf<br>\n",
    "8:  Altra/Leucospilota<br>\n",
    "9:  Bleached coral<br>\n",
    "10:  Blurred<br>\n",
    "11:  Dead coral<br>\n",
    "12:  Fish<br>\n",
    "13:  Homo Sapiens<br>\n",
    "14:  Human object<br>\n",
    "15:  Living coral<br>\n",
    "16:  Non-acropora Millepora<br>\n",
    "17:  Non-acropora Encrusting<br>\n",
    "18:  Non-acropora Foliose<br>\n",
    "19:  Non-acropora Massive<br>\n",
    "20:  Non-acropora Coral free<br>\n",
    "21:  Non-acropora Submassive<br>\n",
    "22:  Rock<br>\n",
    "23:  Rubble<br>\n",
    "24:  Sand<br>\n",
    "25:  Sea cucumber<br>\n",
    "26:  Sea urchin<br>\n",
    "27:  Sponges<br>\n",
    "28:  Syringodium Isoetifolium<br>\n",
    "29:  Thalassodendron Ciliatum<br>\n",
    "30:  Useless <br>\n",
    "\n",
    "If we want to find the images with corals in them, we should focus on Acropora ---, Non-acropora ---, --- coral. <br>\n",
    "Those are the following indices: [0,1,2,3,9,11,15,16,17,18,19,20,21] <br>\n",
    "\n",
    "Most of these labels are of no use to us. \n",
    "However, the \"living coral\" label is mainly used to assign to corals for which the exact type was not clear.\n",
    "Supplementary information can be found here:<br>\n",
    "https://static-content.springer.com/esm/art%3A10.1038%2Fs41597-024-04267-z/MediaObjects/41597_2024_4267_MOESM1_ESM.pdf \n"
   ]
  },
  {
   "cell_type": "markdown",
   "id": "64dbd949",
   "metadata": {},
   "source": [
    "Things to check: <br>\n",
    "\n",
    "Do all bleached coral also have a coral type label, or living coral label? <br>\n",
    "* There are 3 entries where this is not the case. I would remove those.\n",
    "\n",
    "Are there any images with both bleached and dead, or alive and dead labels?<br>\n",
    "* Yes there are for both of these. These are no mistakes, as both bleached and dead corals are present in those images.\n",
    "* I think the best solution is to remove these images, as there are not too many. \n",
    "* There are 20 and 197 in the training data, 8 and 70 in the test data, and 9 and 75 in the validation data, respectively. \n"
   ]
  },
  {
   "cell_type": "code",
   "execution_count": 1,
   "id": "eeaf5bab",
   "metadata": {},
   "outputs": [
    {
     "name": "stderr",
     "output_type": "stream",
     "text": [
      "c:\\Users\\timow\\OneDrive\\Documenten\\School\\GitHub\\JBG060_G13\\.venv\\lib\\site-packages\\tqdm\\auto.py:21: TqdmWarning: IProgress not found. Please update jupyter and ipywidgets. See https://ipywidgets.readthedocs.io/en/stable/user_install.html\n",
      "  from .autonotebook import tqdm as notebook_tqdm\n"
     ]
    }
   ],
   "source": [
    "from datasets import load_dataset\n",
    "from datasets.arrow_dataset import Dataset\n",
    "from datasets.dataset_dict import DatasetDict, IterableDatasetDict\n",
    "from datasets.iterable_dataset import IterableDataset\n",
    "from typing import Any\n",
    "\n",
    "# download the dataset\n",
    "ds: DatasetDict = load_dataset(\"lombardata/seatizen_atlas_image_dataset\") # type: ignore"
   ]
  },
  {
   "cell_type": "code",
   "execution_count": 5,
   "id": "e663717b",
   "metadata": {},
   "outputs": [
    {
     "data": {
      "text/plain": [
       "(20, 197)"
      ]
     },
     "execution_count": 5,
     "metadata": {},
     "output_type": "execute_result"
    }
   ],
   "source": [
    "# Count number of images with both bleached and dead, and alive and dead labels. \n",
    "\n",
    "def count_dead_bleached_and_dead_alive_labels(dataset_name: str) -> tuple[int, int]:\n",
    "    bleached_and_dead_count = 0\n",
    "    alive_and_dead_count = 0\n",
    "    for label in ds[dataset_name][\"label\"]:\n",
    "        # check if bleached and dead is true\n",
    "        if label[9] == 1 and label[11] == 1:\n",
    "            bleached_and_dead_count += 1\n",
    "        # check if dead and alive is true\n",
    "        if label[11] == 1 and label[15] == 1:\n",
    "            alive_and_dead_count += 1\n",
    "    return (bleached_and_dead_count, alive_and_dead_count)\n",
    "count_dead_bleached_and_dead_alive_labels(\"train\")"
   ]
  },
  {
   "cell_type": "code",
   "execution_count": 6,
   "id": "a80e1bd5",
   "metadata": {},
   "outputs": [
    {
     "data": {
      "text/plain": [
       "['Algae Turf',\n",
       " 'Altra/Leucospilota',\n",
       " 'Bleached coral',\n",
       " 'Rock',\n",
       " 'Rubble',\n",
       " 'Sand',\n",
       " 'Sea cucumber']"
      ]
     },
     "execution_count": 6,
     "metadata": {},
     "output_type": "execute_result"
    }
   ],
   "source": [
    "# Have a dictionary to transform the numbers into names.\n",
    "\n",
    "label_dict: dict[int, str] = {\n",
    "    0: \"Acropora Branching\",\n",
    "    1: \"Acropora Digitate\",\n",
    "    2: \"Acropora Submassive\",\n",
    "    3: \"Acropora Tabular\",\n",
    "    4: \"Algal Assemblage\",\n",
    "    5: \"Algae Halimeda\",\n",
    "    6: \"Algae Coralline\",\n",
    "    7: \"Algae Turf\",\n",
    "    8: \"Altra/Leucospilota\",\n",
    "    9: \"Bleached coral\",\n",
    "    10: \"Blurred\",\n",
    "    11: \"Dead coral\",\n",
    "    12: \"Fish\",\n",
    "    13: \"Homo Sapiens\",\n",
    "    14: \"Human object\",\n",
    "    15: \"Living coral\",\n",
    "    16: \"Non-acropora Millepora\",\n",
    "    17: \"Non-acropora Encrusting\",\n",
    "    18: \"Non-acropora Foliose\",\n",
    "    19: \"Non-acropora Massive\",\n",
    "    20: \"Non-acropora Coral free\",\n",
    "    21: \"Non-acropora Submassive\",\n",
    "    22: \"Rock\",\n",
    "    23: \"Rubble\",\n",
    "    24: \"Sand\",\n",
    "    25: \"Sea cucumber\",\n",
    "    26: \"Sea urchin\",\n",
    "    27: \"Sponges\",\n",
    "    28: \"Syringodium Isoetifolium\",\n",
    "    29: \"Thalassodendron Ciliatum\",\n",
    "    30: \"Useless\"\n",
    "}\n",
    "\n",
    "# Transform a label entry into readable format.\n",
    "def transform_encoding(multi_hot_encoding: list[int]) -> list[Any]:\n",
    "    active_labels: list[Any] = []\n",
    "    for i, el in enumerate(multi_hot_encoding):\n",
    "        if el == 1:\n",
    "            active_labels.append(label_dict[i])\n",
    "    return active_labels\n",
    "\n",
    "# Example  \n",
    "transform_encoding(ds[\"validation\"][382][\"label\"]) # type: ignore"
   ]
  },
  {
   "cell_type": "code",
   "execution_count": null,
   "id": "ce3b8c40",
   "metadata": {},
   "outputs": [
    {
     "data": {
      "text/plain": [
       "[775, 1213]"
      ]
     },
     "execution_count": 8,
     "metadata": {},
     "output_type": "execute_result"
    }
   ],
   "source": [
    "# Check if all bleached coral labels also have the coral type, or living coral label.\n",
    "# List of indices where this is not the case is returned.\n",
    "\n",
    "def bleached_coral_equals_coral(dataset_name: str) -> list[int]:\n",
    "    CORAL_TYPES_INDICES: list[int] = [0,1,2,3,15,16,17,18,19,20,21]\n",
    "    bad_indices: list[int] = []\n",
    "    for ind, label in enumerate(ds[dataset_name][\"label\"]): # type: ignore\n",
    "        if label[9] == 1:   # if \"bleached coral\" label is true\n",
    "            found = False\n",
    "            for i in CORAL_TYPES_INDICES: \n",
    "                if label[i] == 1:       # Check if one of the coral type labels is true\n",
    "                    found = True\n",
    "                    break       # if one is found, we don't need to check the others.\n",
    "            if not found:\n",
    "                bad_indices.append(ind)\n",
    "    return bad_indices\n",
    "bleached_coral_equals_coral(\"train\")"
   ]
  }
 ],
 "metadata": {
  "kernelspec": {
   "display_name": ".venv",
   "language": "python",
   "name": "python3"
  },
  "language_info": {
   "codemirror_mode": {
    "name": "ipython",
    "version": 3
   },
   "file_extension": ".py",
   "mimetype": "text/x-python",
   "name": "python",
   "nbconvert_exporter": "python",
   "pygments_lexer": "ipython3",
   "version": "3.10.11"
  }
 },
 "nbformat": 4,
 "nbformat_minor": 5
}
